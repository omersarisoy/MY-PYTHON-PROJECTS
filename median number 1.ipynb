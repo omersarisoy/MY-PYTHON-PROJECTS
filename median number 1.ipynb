{
 "cells": [
  {
   "cell_type": "code",
   "execution_count": 3,
   "metadata": {},
   "outputs": [
    {
     "name": "stdout",
     "output_type": "stream",
     "text": [
      "sayıları giriniz:325\n",
      "3\n"
     ]
    }
   ],
   "source": [
    "median = list(input(\"sayıları giriniz:\"))\n",
    "median.sort()\n",
    "a = int((len(median)-1)/2)\n",
    "b = int(len(median)/2)\n",
    "if len(median)%2 != 0:\n",
    "    print(median[a])\n",
    "elif len(median)%2 == 0:\n",
    "    print(median[a],median[b])"
   ]
  },
  {
   "cell_type": "code",
   "execution_count": null,
   "metadata": {},
   "outputs": [],
   "source": []
  },
  {
   "cell_type": "code",
   "execution_count": null,
   "metadata": {},
   "outputs": [],
   "source": []
  }
 ],
 "metadata": {
  "kernelspec": {
   "display_name": "Python 3",
   "language": "python",
   "name": "python3"
  },
  "language_info": {
   "codemirror_mode": {
    "name": "ipython",
    "version": 3
   },
   "file_extension": ".py",
   "mimetype": "text/x-python",
   "name": "python",
   "nbconvert_exporter": "python",
   "pygments_lexer": "ipython3",
   "version": "3.8.5"
  }
 },
 "nbformat": 4,
 "nbformat_minor": 4
}
