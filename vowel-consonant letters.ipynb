{
 "cells": [
  {
   "cell_type": "code",
   "execution_count": 10,
   "metadata": {},
   "outputs": [
    {
     "name": "stdout",
     "output_type": "stream",
     "text": [
      "bir kelime giriniz:ömer\n",
      "öe\n",
      "mr\n"
     ]
    }
   ],
   "source": [
    "def ses():\n",
    "    sesli_harfler = [\"a\",\"e\",\"ı\",\"i\",\"o\",\"ö\",\"u\",\"ü\"]\n",
    "    sesli = \"\"\n",
    "    sessiz = \"\"\n",
    "    kelime = input(\"bir kelime giriniz:\")\n",
    "    for i in kelime:\n",
    "        if i in sesli_harfler:\n",
    "            sesli += i\n",
    "        else:\n",
    "            sessiz += i\n",
    "    print(sesli)\n",
    "    print(sessiz)\n",
    "ses()"
   ]
  },
  {
   "cell_type": "code",
   "execution_count": null,
   "metadata": {},
   "outputs": [],
   "source": [
    "def harfsilme():\n",
    "    vowels = \"a,e,ı,i,o,ö,u,ü\"\n",
    "    sesli_harfsiz = \"\"\n",
    "    sessiz_harfsiz = \"\"\n",
    "    sentence = input(\"Enter a sentence: \")\n",
    "    for i in sentence:\n",
    "        if i in vowels:\n",
    "            sessiz_harfsiz += i\n",
    "        else:\n",
    "            sesli_harfsiz += i\n",
    "    print(sesli_harfsiz)\n",
    "    print(sessiz_harfsiz)\n",
    "harfsilme()"
   ]
  },
  {
   "cell_type": "code",
   "execution_count": null,
   "metadata": {},
   "outputs": [],
   "source": []
  }
 ],
 "metadata": {
  "kernelspec": {
   "display_name": "Python 3",
   "language": "python",
   "name": "python3"
  },
  "language_info": {
   "codemirror_mode": {
    "name": "ipython",
    "version": 3
   },
   "file_extension": ".py",
   "mimetype": "text/x-python",
   "name": "python",
   "nbconvert_exporter": "python",
   "pygments_lexer": "ipython3",
   "version": "3.8.5"
  }
 },
 "nbformat": 4,
 "nbformat_minor": 4
}
