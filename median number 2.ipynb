{
 "cells": [
  {
   "cell_type": "code",
   "execution_count": null,
   "metadata": {},
   "outputs": [],
   "source": [
    "kac = int(input(\"kaç defa girmek istersiniz?\"))   \n",
    "listem = []\n",
    "for i in range(kac):\n",
    "  listem.append(int(input(\"sayıları girin\")))\n",
    "  listem.sort()\n",
    "if len(listem) % 2 == 0:\n",
    "  print(listem[kac//2],listem[(kac//2)-1])\n",
    "else:\n",
    "  print(listem[kac//2])"
   ]
  },
  {
   "cell_type": "code",
   "execution_count": null,
   "metadata": {},
   "outputs": [],
   "source": []
  }
 ],
 "metadata": {
  "kernelspec": {
   "display_name": "Python 3",
   "language": "python",
   "name": "python3"
  },
  "language_info": {
   "codemirror_mode": {
    "name": "ipython",
    "version": 3
   },
   "file_extension": ".py",
   "mimetype": "text/x-python",
   "name": "python",
   "nbconvert_exporter": "python",
   "pygments_lexer": "ipython3",
   "version": "3.8.5"
  }
 },
 "nbformat": 4,
 "nbformat_minor": 4
}
