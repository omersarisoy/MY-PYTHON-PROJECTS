{
 "cells": [
  {
   "cell_type": "markdown",
   "metadata": {},
   "source": [
    "# Letters Count "
   ]
  },
  {
   "cell_type": "markdown",
   "metadata": {},
   "source": [
    "Task:\n",
    "\n",
    "Count the number of each letter in a sentence.\n",
    "The department you work for undertook a project construction that makes word / text analysis. You are asked to calculate the number of letters or any chars in the sentences entered under this project.\n",
    "Write a Python program that;\n",
    "takes a sentence from the user,\n",
    "counts the number of each letter of the sentence,\n",
    "collects the letters/chars as a key and the counted numbers as a value in a dictionary.\n",
    "\n",
    "Sample inputs\tOutputs\n",
    "hippo runs to us!\t\n",
    "{'s': 2, 'r': 1, 't': 1, 'h': 1, 'n': 1, \n",
    "'i': 1, 'u': 2, 'o': 2, 'p': 2, ' ': 3, '!': 1}"
   ]
  },
  {
   "cell_type": "code",
   "execution_count": 3,
   "metadata": {},
   "outputs": [
    {
     "name": "stdout",
     "output_type": "stream",
     "text": [
      "Enter a sentence please:hippo runs to us!\n",
      "{'h': 1, 'i': 1, 'p': 2, 'o': 2, ' ': 3, 'r': 1, 'u': 2, 'n': 1, 's': 2, 't': 1, '!': 1}\n"
     ]
    }
   ],
   "source": [
    "sentence = input(\"Enter a sentence please:\")\n",
    "dic = {}\n",
    "for i in sentence:\n",
    "    dic[i]=sentence.count(i)\n",
    "print(dic)"
   ]
  },
  {
   "cell_type": "code",
   "execution_count": 7,
   "metadata": {},
   "outputs": [
    {
     "name": "stdout",
     "output_type": "stream",
     "text": [
      "Please enter a sentence \n",
      "I'll count the each letter: hippo runs to us!\n",
      "{'h': 1, 'i': 1, 'p': 2, 'o': 2, ' ': 3, 'r': 1, 'u': 2, 'n': 1, 's': 2, 't': 1, '!': 1}\n"
     ]
    }
   ],
   "source": [
    "sentence =input(\"Please enter a sentence \\nI'll count the each letter: \")\n",
    "count_dict = {}\n",
    "\n",
    "for i in sentence:\n",
    "    if i not in count_dict:\n",
    "        count_dict[i] = 1\n",
    "    else:\n",
    "        x=sentence.count(i)\n",
    "        count_dict[i]=x\n",
    "        x=0\n",
    "print(count_dict)\n"
   ]
  },
  {
   "cell_type": "code",
   "execution_count": 6,
   "metadata": {},
   "outputs": [
    {
     "name": "stdout",
     "output_type": "stream",
     "text": [
      "Enter a sentence: hippo runs to us!\n",
      "{'h': 1, 'i': 1, 'p': 2, 'o': 2, ' ': 3, 'r': 1, 'u': 2, 'n': 1, 's': 2, 't': 1, '!': 1}\n"
     ]
    }
   ],
   "source": [
    "sentence = input(\"Enter a sentence: \")\n",
    "chardict = {}\n",
    "for char in sentence:\n",
    "    if char not in chardict:\n",
    "        chardict[char] = 1\n",
    "    else:\n",
    "        chardict[char] += 1\n",
    "print(chardict)\n"
   ]
  },
  {
   "cell_type": "code",
   "execution_count": null,
   "metadata": {},
   "outputs": [],
   "source": []
  }
 ],
 "metadata": {
  "kernelspec": {
   "display_name": "Python 3",
   "language": "python",
   "name": "python3"
  },
  "language_info": {
   "codemirror_mode": {
    "name": "ipython",
    "version": 3
   },
   "file_extension": ".py",
   "mimetype": "text/x-python",
   "name": "python",
   "nbconvert_exporter": "python",
   "pygments_lexer": "ipython3",
   "version": "3.8.5"
  }
 },
 "nbformat": 4,
 "nbformat_minor": 4
}
