{
 "cells": [
  {
   "cell_type": "code",
   "execution_count": null,
   "metadata": {},
   "outputs": [],
   "source": [
    "import random\n",
    "number = random.randint(0,10)\n",
    "counter = 3\n",
    "while counter > 0:\n",
    "  guess = int(input(\"Enter a number please:\"))\n",
    "  counter -= 1\n",
    "  if counter > 0:\n",
    "    if guess == number:\n",
    "      print(\"You win the game...\")\n",
    "      break\n",
    "    else:\n",
    "      print(\"Try again...\") \n",
    "  else:\n",
    "    print(\"No chance remain...\")\n"
   ]
  }
 ],
 "metadata": {
  "kernelspec": {
   "display_name": "Python 3",
   "language": "python",
   "name": "python3"
  },
  "language_info": {
   "codemirror_mode": {
    "name": "ipython",
    "version": 3
   },
   "file_extension": ".py",
   "mimetype": "text/x-python",
   "name": "python",
   "nbconvert_exporter": "python",
   "pygments_lexer": "ipython3",
   "version": "3.8.5"
  }
 },
 "nbformat": 4,
 "nbformat_minor": 4
}
