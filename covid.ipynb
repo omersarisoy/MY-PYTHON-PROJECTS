{
 "cells": [
  {
   "cell_type": "code",
   "execution_count": 1,
   "metadata": {},
   "outputs": [
    {
     "name": "stdout",
     "output_type": "stream",
     "text": [
      "Please enter your answer as 'Yes' or 'No'\n",
      "Are you a cigarette addict older than 75 years old?yes\n",
      "Do you have a severe chronic disease? yes\n",
      "Is your immune system too weak?yes\n",
      "You are in risky group\n"
     ]
    }
   ],
   "source": [
    "print(\"Please enter your answer as 'Yes' or 'No'\")\n",
    "age = input(\"Are you a cigarette addict older than 75 years old?\").title()\n",
    "chronic = input(\"Do you have a severe chronic disease? \").title()\n",
    "immune = input(\"Is your immune system too weak?\").title()\n",
    "if age == \"Yes\":\n",
    "  age = True\n",
    "else:\n",
    "  False\n",
    "if chronic == \"Yes\":\n",
    "  chronic = True\n",
    "else:\n",
    "  False\n",
    "if immune == \"Yes\":\n",
    "  immune = True\n",
    "else:\n",
    "  False\n",
    "if age == True or chronic == True or immune == True:\n",
    "    print(\"You are in risky group\")\n",
    "else:\n",
    "    print(\"You are not in risky group\")"
   ]
  },
  {
   "cell_type": "code",
   "execution_count": null,
   "metadata": {},
   "outputs": [],
   "source": []
  }
 ],
 "metadata": {
  "kernelspec": {
   "display_name": "Python 3",
   "language": "python",
   "name": "python3"
  },
  "language_info": {
   "codemirror_mode": {
    "name": "ipython",
    "version": 3
   },
   "file_extension": ".py",
   "mimetype": "text/x-python",
   "name": "python",
   "nbconvert_exporter": "python",
   "pygments_lexer": "ipython3",
   "version": "3.8.5"
  }
 },
 "nbformat": 4,
 "nbformat_minor": 4
}
